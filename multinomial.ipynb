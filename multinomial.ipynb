{
 "cells": [
  {
   "cell_type": "code",
   "execution_count": 4,
   "metadata": {},
   "outputs": [],
   "source": [
    "import os\n",
    "import pandas as pd\n",
    "from collections import Counter\n",
    "import numpy as np\n",
    "import seaborn as sn\n",
    "import pandas as pd\n",
    "import matplotlib.pyplot as plt"
   ]
  },
  {
   "cell_type": "code",
   "execution_count": 5,
   "metadata": {},
   "outputs": [],
   "source": [
    "class multi_nomial(object):\n",
    "    def __init__(self):\n",
    "        pass\n",
    "    def train(self,spam,ham):\n",
    "        data = {}\n",
    "        spam_total =0\n",
    "        ham_total =0\n",
    "        spam_n    = 0\n",
    "        ham_n     = 0\n",
    "        for filename in os.listdir(spam):\n",
    "            file = open(spam + '\\\\' +filename,errors='ignore')\n",
    "            wordcount = Counter(file.read().split())\n",
    "            for item in wordcount.items():\n",
    "                if item[0] in data:\n",
    "                    data[item[0]][0] += item[1]\n",
    "                else:\n",
    "                    data[item[0]] = [item[1],0]\n",
    "                spam_total += item[1]\n",
    "            spam_n    +=1\n",
    "            \n",
    "        for filename in os.listdir(ham):\n",
    "            file = open(ham + '\\\\'+filename,errors='ignore')\n",
    "            wordcount = Counter(file.read().split())\n",
    "            for item in wordcount.items():\n",
    "                if item[0] in data:\n",
    "                    data[item[0]][1] += item[1]\n",
    "                else:\n",
    "                    data[item[0]] = [0,item[1]]\n",
    "                ham_total += item[1]\n",
    "            ham_n     +=1\n",
    "        n = len(data)\n",
    "        for word in data.keys():\n",
    "            cond_spam  = (data[word][0]+1)/(spam_total-data[word][0] + n-1 )\n",
    "            cond_ham   = (data[word][1]+1)/(ham_total-data[word][1] + n-1 )\n",
    "            data[word] = data[word] + [cond_spam,cond_ham]\n",
    "        self.n = n\n",
    "        self.ham_total = ham_total\n",
    "        self.spam_total = spam_total\n",
    "        self.data = data\n",
    "        self.prior_spam  = spam_n/(spam_n+ham_n)\n",
    "        self.prior_ham   = ham_n/(spam_n+ham_n)\n",
    "        \n",
    "    def predict(self,text):\n",
    "        file = open(text)\n",
    "        wordcount = Counter(file.read().split())\n",
    "        spam_score = np.log(self.prior_spam)\n",
    "        ham_score = np.log(self.prior_ham)\n",
    "        for item in wordcount.items():\n",
    "            text = item[0]\n",
    "            count = item[1]\n",
    "            if text in self.data:\n",
    "                spam_score += np.log(self.data[text][2])*count\n",
    "                ham_score  += np.log(self.data[text][3])*count\n",
    "        self.spam_score = spam_score\n",
    "        self.ham_score = ham_score\n",
    "        if spam_score >= ham_score:\n",
    "            return \"spam\"\n",
    "        else:\n",
    "            return \"ham\""
   ]
  },
  {
   "cell_type": "code",
   "execution_count": 6,
   "metadata": {},
   "outputs": [],
   "source": [
    "spam_train = '.\\spam_train'\n",
    "ham_train  = '.\\ham_train'\n",
    "spam_test  = '.\\spam_test'\n",
    "ham_test   = '.\\ham_test' "
   ]
  },
  {
   "cell_type": "code",
   "execution_count": 7,
   "metadata": {},
   "outputs": [],
   "source": [
    "model = multi_nomial()\n",
    "model.train(spam_train,ham_train)"
   ]
  },
  {
   "cell_type": "code",
   "execution_count": 8,
   "metadata": {},
   "outputs": [],
   "source": [
    "true_positive=0\n",
    "true_negative=0\n",
    "false_positive= 0\n",
    "false_negative =0"
   ]
  },
  {
   "cell_type": "code",
   "execution_count": 16,
   "metadata": {},
   "outputs": [],
   "source": [
    "for filename in os.listdir(ham_test):\n",
    "    x = model.predict(ham_test +\"//\" + filename)\n",
    "    if x== \"ham\":\n",
    "        true_positive +=1\n",
    "    if x == \"spam\":\n",
    "        false_negative +=1\n",
    "\n",
    "        \n",
    "for filename in os.listdir(spam_test):\n",
    "    x = model.predict(spam_test +\"//\" + filename)\n",
    "    if x== \"spam\":\n",
    "        true_negative +=1\n",
    "    if x == \"ham\":\n",
    "        false_positive +=1"
   ]
  },
  {
   "cell_type": "code",
   "execution_count": 19,
   "metadata": {},
   "outputs": [
    {
     "data": {
      "text/plain": [
       "<matplotlib.axes._subplots.AxesSubplot at 0x25121277da0>"
      ]
     },
     "execution_count": 19,
     "metadata": {},
     "output_type": "execute_result"
    },
    {
     "data": {
      "image/png": "[encoded data removed]",
      "text/plain": [
       "<Figure size 648x432 with 2 Axes>"
      ]
     },
     "metadata": {
      "needs_background": "light"
     },
     "output_type": "display_data"
    }
   ],
   "source": [
    "array = [[true_positive,false_negative],[false_positive,true_negative]]\n",
    "result = pd.DataFrame(array, index = [\"ham\" , \"spam\"],\n",
    "                                columns = [\"ham\" , \"spam\"])\n",
    "plt.figure(figsize = (9,6))\n",
    "sn.heatmap(result,annot=True)"
   ]
  },
  {
   "cell_type": "code",
   "execution_count": 20,
   "metadata": {},
   "outputs": [],
   "source": [
    "accuracy = (true_positive + true_negative)/(true_positive+true_negative\n",
    "                                            +false_positive+false_negative)"
   ]
  },
  {
   "cell_type": "code",
   "execution_count": 21,
   "metadata": {},
   "outputs": [
    {
     "data": {
      "text/plain": [
       "0.8208978091006588"
      ]
     },
     "execution_count": 21,
     "metadata": {},
     "output_type": "execute_result"
    }
   ],
   "source": [
    "accuracy"
   ]
  }
 ],
 "metadata": {
  "kernelspec": {
   "display_name": "Python 3",
   "language": "python",
   "name": "python3"
  },
  "language_info": {
   "codemirror_mode": {
    "name": "ipython",
    "version": 3
   },
   "file_extension": ".py",
   "mimetype": "text/x-python",
   "name": "python",
   "nbconvert_exporter": "python",
   "pygments_lexer": "ipython3",
   "version": "3.7.0"
  }
 },
 "nbformat": 4,
 "nbformat_minor": 2
}
